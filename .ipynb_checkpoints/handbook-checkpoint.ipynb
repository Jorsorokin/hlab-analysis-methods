{
 "cells": [
  {
   "cell_type": "markdown",
   "metadata": {},
   "source": [
    "# Hlab analysis methods PDF summary\n",
    "Welcome! This rather lengthy document summarizes the various topics we will/have covered in the HLab analysis mini series. If this is the .ipynb version of the doc, you can edit/run blocks of code yourself. "
   ]
  },
  {
   "cell_type": "markdown",
   "metadata": {},
   "source": [
    "## Table of contents\n",
    "0. [Basic Setup](#basics)\n",
    "1. [Linear Algbera](#linalg)\n",
    "    - [Inner Product](#inner)\n",
    "    - [Outer Product](#outer)\n",
    "    - [Vector Norms](#norm)\n",
    "    - [Matrix Rank](#rank)\n",
    "2. [Signal Processing](#sigproc)"
   ]
  },
  {
   "cell_type": "markdown",
   "metadata": {},
   "source": [
    "## Basic Setup <a name=\"basics\"></a>\n",
    "If you are new to Julia, fear not, it is quite similar to MATLAB. There are, however a few peculiarities to take care of. First, in Julia we need to *import* packages to use certain functions. For instance, there are no built-in plotting functions, but there is a handy _Plots_ package that we can install and use. In general, to increase the flexibility of Julia we first need to (a) install desired packages, and (b) import them when we wish to use them. \n",
    "\n",
    "For the most part, Julia code will look very familiar if you have learned Python and/or MATLAB (it uses the best of both worlds: MATLAB's intuitive linear algebra framework with Python's general-purposeness & modularity). Plotting is a bit different, as are some of the data structures (for instance, a row-vector does not behave the same as a column-vector, but we'll get into that next)\n",
    "\n",
    "For now, we will need to install at least a few additional packages to get up to speed. If you haven't already, in an active Julia session (or in this notebook if you are using it in Jupyter) type the following commands to get plotting, statistics, and tabular-based data structures available for use:"
   ]
  },
  {
   "cell_type": "code",
   "execution_count": null,
   "metadata": {},
   "outputs": [],
   "source": [
    "using Pkg # allows us to add new packages\n",
    "Pkg.update()\n",
    "Pkg.add(\"Plots\")      # plotting capabilities\n",
    "Pkg.add(\"StatsPlots\") # statsitics-related plotting add ons \n",
    "Pkg.add(\"DataFrames\") # tabular data structures"
   ]
  },
  {
   "cell_type": "markdown",
   "metadata": {},
   "source": [
    "We can use these packages once installed via the `using __package_name__` command, which imports all the functions available from that particular package. Contrastingly, importing via the `import __package_name__` imports the package, but you have to use dot (.) notation to access the functions. \n",
    "\n",
    "Personally, I prefer the `using` command for packages that you will almost certainly use throughout your code (for instance the `Plots` package), and the `import` command for packages that will be used more rarely. This can help you keep track of which functions stem from which packages, and IMO keeps the code looking cleaner."
   ]
  },
  {
   "cell_type": "code",
   "execution_count": 10,
   "metadata": {},
   "outputs": [
    {
     "name": "stdout",
     "output_type": "stream",
     "text": [
      "[-0.00331494, 1.05387]"
     ]
    }
   ],
   "source": [
    "using Plots\n",
    "x = randn(100)\n",
    "plot(x)\n",
    "\n",
    "import Statistics\n",
    "print([Statistics.mean(x), Statistics.std(x)])"
   ]
  },
  {
   "cell_type": "markdown",
   "metadata": {},
   "source": [
    "## Linear Algebra <a name=\"linalg\"></a>\n",
    "Linear algbera is at the core of most (if not all) of the analysis methods we will be covering. As such, knowing even a very surface-level amount of linear algebra can be extremely rewarding/beneficial when creating your analysis pipelines.\n",
    "\n",
    "Let's begin by creating a simple *vector* in Julia, which is defined as a column-vector by default:"
   ]
  },
  {
   "cell_type": "code",
   "execution_count": null,
   "metadata": {},
   "outputs": [],
   "source": [
    "x = [1, 2, 3, 4, 5] # unlike matlab, you must use commas if you want to specify a column vector\n",
    "size(x)"
   ]
  },
  {
   "cell_type": "markdown",
   "metadata": {},
   "source": [
    "We see that our variable `x` is a 5 x 1 column vector. This is an important thing to note, since linear algebra cares about the orientation of vectors/matrices. Of course, we can do simple things like add/multiply a scalar. We can also add another vector of the same length, or multiply by another vector or matrix. "
   ]
  },
  {
   "cell_type": "code",
   "execution_count": null,
   "metadata": {},
   "outputs": [],
   "source": [
    "y = [0, 1, 0, 1, 2]\n",
    "print(2x) # multiply each element by 2\n",
    "print(x .* y) # element-wise multiplication\n",
    "print(x' * y) # dot-product: x[1]*y[1] + ... + x[5]*y[5]"
   ]
  },
  {
   "cell_type": "markdown",
   "metadata": {},
   "source": [
    "### The inner product <a name=\"inner\"></a>\n",
    "Note that the last operation `x' * y` performed _vector-multiplication_ between the vectors `x` and `y`. This is also called the *dot product* or *inner product* between two vectors (or matrices). Note that I had to transpose the vector `x` first for this to work. I also could have imported the `LinearAlgebra` package and used the function `LinearAlgebra.dot(x, y)`. \n",
    "\n",
    "We can write our own dot-product function to clarify what it is doing:"
   ]
  },
  {
   "cell_type": "code",
   "execution_count": null,
   "metadata": {},
   "outputs": [],
   "source": [
    "dot(x, y) = sum([i*j for i in x, for j in y]) \n",
    "print(x' * y)    # built-in dot product\n",
    "print(dot(x, y)) # homemade dot product"
   ]
  },
  {
   "cell_type": "markdown",
   "metadata": {},
   "source": [
    "So the inner/dot product is nothing more than summing the resulting vector after doing element wise multiplication. If we have a matrix-vector product or matrix-matrix product, we simply repeat the above procedure for each row/column of the matrices involved. \n",
    "\n",
    "Inner products depend on a certain order, so if we have two matrices `A` and `B`, the inner product `A * B` is not the same as `B * A`. The former performs a dot product between each _row of A_ and each _column of B_, while the latter does the opposite. \n",
    "\n",
    "Inner products are at the core of much of linear algebra, and indeed many of the analyses we will cover. It can be interpreted in a variety of ways, some of which are more useful than others depending on the context:\n",
    "\n",
    "1. A similarity score (clustering)\n",
    "2. A projection of one vector/matrix onto another (dimensionality reduction/PCA)\n",
    "3. A weighted sum of predictor variables (regression)\n",
    "4. A rotation/scaling of data (variety of signal/image processing methods)\n",
    "5. A filter response (signal processing/convolution)\n",
    "6. A transformation of _inputs_ into _outputs_ (variety of topics/methods, such as neural networks)\n",
    "\n",
    "I usually find the inner product easiest to think of in terms of (1) and (3), as these are likely to be encountered in your analysis, but it can be useful to visualize/interpret inner products as transformations of vectors/variables:"
   ]
  },
  {
   "cell_type": "code",
   "execution_count": null,
   "metadata": {},
   "outputs": [],
   "source": [
    "# create a correlated scatter plot\n",
    "x = randn(1000)\n",
    "y = 3x + 0.5*randn(1000) \n",
    "data = [x, y]\n",
    "plot(x, y, seriestype=\"scatter\")\n",
    "\n",
    "# now lets flip over the y-axis using an inner product with a rotation matrix\n",
    "A = [1 0; 0 -1]\n",
    "data_filped = data * A\n",
    "plot!(data_flipped[:,1], data_flipped[:,2], seriestype=\"scatter\") "
   ]
  },
  {
   "cell_type": "markdown",
   "metadata": {},
   "source": [
    "As you can see above, we have used the inner product in a _rotation/transformation_ setting, where we've flipped our data about the y-axis. It is helpful to understand the structure of `A`, and what it is doing to each of our original _dimensions_ (each column of `data`). Our rotation matrix `A` contains the values: \n",
    "\n",
    "```\n",
    "1  0\n",
    "0 -1\n",
    "```\n",
    "Each _row_ of `A` is associated with one dimension/feature/variable of the _input_ data, while each _column_ of `A` is associated with one dimension/feature/variable of the _ouput_ data. Since we have two columns in `data`, and two columns in `A`, we already know that this inner product is NOT going to change the dimensionality of the data. We started with two variables (x, y), and we will be ending with two variables (x_new, y_new). \n",
    "\n",
    "\n",
    "Looking at the _columns_ of A, we see that the first column, `[1, 0]`, will be multiplying the _first_ variable in `data` (x) by the value *1*, and the _second_ variable in `data` (y) by the value *0*, then adding the results together to produce `x_new`. Since we are not combining x and y together (since y is multiplied by 0), and since we are only multiplying x by 1, we know that `x_new = x`. \n",
    "\n",
    "Similarly, the second column of A, `[0, -1]`, will be multiplying x by *0*, and y by *-1*, then summing the results to produce `y_new`. Since the only contribution to `y_new` is the original `y` variable in `data`, and it is only multiplied by *-1*, we know that `y_new = -y`.\n",
    "\n",
    "\n",
    "So in general, each _column_ of A specifies how the input variables get weighted before being summed together to produce a new, single, ouput variable. So each column of A is performing a _linear combination_ of the input variables. We can also readily appreciate how we can easily shrink or expand the original dimensionality of the data set (by removing or adding columns to `A`, respectively). "
   ]
  },
  {
   "cell_type": "markdown",
   "metadata": {},
   "source": [
    "### The outer product <a name=\"outer\"></a>\n"
   ]
  },
  {
   "cell_type": "markdown",
   "metadata": {},
   "source": [
    "### Vector and matrix norms <a name=\"norm\"></a>\n"
   ]
  },
  {
   "cell_type": "markdown",
   "metadata": {},
   "source": [
    "### Matrix rank <a name=\"rank\"></a>"
   ]
  },
  {
   "cell_type": "markdown",
   "metadata": {},
   "source": [
    "## Signal Processing <a name=\"sigproc\"></a>"
   ]
  },
  {
   "cell_type": "code",
   "execution_count": null,
   "metadata": {},
   "outputs": [],
   "source": []
  }
 ],
 "metadata": {
  "kernelspec": {
   "display_name": "Julia 1.0.3",
   "language": "julia",
   "name": "julia-1.0"
  },
  "language_info": {
   "file_extension": ".jl",
   "mimetype": "application/julia",
   "name": "julia",
   "version": "1.0.3"
  }
 },
 "nbformat": 4,
 "nbformat_minor": 2
}
