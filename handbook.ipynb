{
 "cells": [
  {
   "cell_type": "markdown",
   "metadata": {},
   "source": [
    "### Hlab analysis methods PDF summary\n",
    "Welcome! This rather lengthy document summarizes the various topics we will/have covered in the HLab analysis mini series. If this is the .ipynb version of the doc, you can edit/run blocks of code yourself. \n",
    "\n",
    "# Table of contents\n",
    "0. [Basic Setup] (#basics)\n",
    "1. [Linear Algbera] (#linalg)\n",
    "2. [Signal Processing] (#sigproc)"
   ]
  },
  {
   "cell_type": "markdown",
   "metadata": {},
   "source": [
    "## Basic Setup <a name=\"basics\"></a>\n",
    "If you are new to Julia, fear not, it is quite similar to MATLAB. There are, however a few peculiarities to take care of. First, in Julia we need to *import* packages to use certain functions. For instan, there is no plotting function built in, but there is a handy _Plots_ function that we can use. In order to use these, we first need to (a) install the packages, and (b) import them when we wish to use them. \n",
    "\n",
    "We will need to install at least a few additional packages to get up to speed. If you haven't already, in an active Julia session type the following commands to get plotting, statistics, and tabular-based data structures available for use\n",
    "\n",
    "```julia\n",
    "using Pkg # allows us to add new packages\n",
    "Pkg.add(\"Plots\") # plotting capabilities\n",
    "Pkg.add(\"StatsPlots\") # statsitics-related plotting addons\n",
    "Pkg.add(\"DataFrames\") # tabular data frames\n",
    "```"
   ]
  },
  {
   "cell_type": "markdown",
   "metadata": {},
   "source": [
    "## Linear Algebra <a name=\"linalg\"></a>\n"
   ]
  },
  {
   "cell_type": "markdown",
   "metadata": {},
   "source": [
    "## Signal Processing <a name=\"sigproc\"></a>"
   ]
  },
  {
   "cell_type": "code",
   "execution_count": null,
   "metadata": {},
   "outputs": [],
   "source": []
  }
 ],
 "metadata": {
  "kernelspec": {
   "display_name": "Julia 1.0.3",
   "language": "julia",
   "name": "julia-1.0"
  },
  "language_info": {
   "file_extension": ".jl",
   "mimetype": "application/julia",
   "name": "julia",
   "version": "1.0.3"
  }
 },
 "nbformat": 4,
 "nbformat_minor": 2
}
