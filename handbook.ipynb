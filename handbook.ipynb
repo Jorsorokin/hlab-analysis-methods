{
 "cells": [
  {
   "cell_type": "markdown",
   "metadata": {},
   "source": [
    "# Hlab analysis methods handbook\n",
    "Welcome! This rather lengthy document summarizes the various topics we will/have covered in the HLab analysis mini series. If this is the .ipynb version of the doc, you can edit/run blocks of code yourself (assuming you have Julia and the necessary packages installed). Otherwise, you can open a new Julia session and follow along with the code examples below"
   ]
  },
  {
   "cell_type": "markdown",
   "metadata": {},
   "source": [
    "## Table of contents\n",
    "0. [Basic Setup](#basics)\n",
    "1. [Linear Algbera](#linalg)</br>\n",
    "    1.1 [Vector Norms](#norm)</br>\n",
    "    1.2 [Inner Product](#inner)</br>\n",
    "    1.3 [Outer Product](#outer)</br>\n",
    "    1.4 [Matrix Rank](#rank)\n",
    "2. [Signal Processing](#sigproc)"
   ]
  },
  {
   "cell_type": "markdown",
   "metadata": {},
   "source": [
    "# 0: Basic Setup <a name=\"basics\"></a>\n",
    "If you are new to Julia, fear not, it is quite similar to MATLAB. There are, however a few peculiarities to take care of. First, in Julia we need to *import* packages to use certain functions. For instance, there are no built-in plotting functions, but there is a handy _Plots_ package that we can install and use. In general, to increase the flexibility of Julia we first need to (a) install desired packages, and (b) import them when we wish to use them. \n",
    "\n",
    "For the most part, Julia code will look very familiar if you have learned Python and/or MATLAB (it uses the best of both worlds: MATLAB's intuitive linear algebra framework with Python's general-purposeness & modularity). Plotting is a bit different, as are some of the data structures (for instance, a row-vector does not behave the same as a column-vector, but we'll get into that next)\n",
    "\n",
    "For now, we will need to install at least a few additional packages to get up to speed. If you haven't already, in an active Julia session (or in this notebook if you are using it in Jupyter) type the following commands to get plotting, statistics, and tabular-based data structures available for use:"
   ]
  },
  {
   "cell_type": "code",
   "execution_count": null,
   "metadata": {},
   "outputs": [],
   "source": [
    "using Pkg # allows us to add new packages\n",
    "Pkg.update()\n",
    "Pkg.add(\"Plots\")      # plotting capabilities\n",
    "Pkg.add(\"StatsPlots\") # statsitics-related plotting add ons \n",
    "Pkg.add(\"DataFrames\") # tabular data structures"
   ]
  },
  {
   "cell_type": "markdown",
   "metadata": {},
   "source": [
    "We can use these packages once installed via the `using __package_name__` command, which imports all the functions available from that particular package. Contrastingly, importing via the `import __package_name__` imports the package, but you have to use dot (.) notation to access the functions. \n",
    "\n",
    "Personally, I prefer the `using` command for packages that you will almost certainly use throughout your code (for instance the `Plots` package), and the `import` command for packages that will be used more rarely. This can help you keep track of which functions stem from which packages, and IMO keeps the code looking cleaner."
   ]
  },
  {
   "cell_type": "code",
   "execution_count": 10,
   "metadata": {},
   "outputs": [
    {
     "name": "stdout",
     "output_type": "stream",
     "text": [
      "[-0.00331494, 1.05387]"
     ]
    }
   ],
   "source": [
    "using Plots\n",
    "x = randn(100)\n",
    "plot(x)\n",
    "\n",
    "import Statistics\n",
    "print([Statistics.mean(x), Statistics.std(x)])"
   ]
  },
  {
   "cell_type": "markdown",
   "metadata": {},
   "source": [
    "# 1: Linear Algebra <a name=\"linalg\"></a>\n",
    "Linear algbera is at the core of most (if not all) of the analysis methods we will be covering. As such, knowing even a very surface-level amount of linear algebra can be extremely rewarding/beneficial when creating your analysis pipelines.\n",
    "\n",
    "Let's begin by creating a simple *vector* in Julia, which is defined as a column-vector by default:"
   ]
  },
  {
   "cell_type": "code",
   "execution_count": null,
   "metadata": {},
   "outputs": [],
   "source": [
    "x = [1, 2, 3, 4, 5] # unlike matlab, you must use commas if you want to specify a column vector\n",
    "size(x)"
   ]
  },
  {
   "cell_type": "markdown",
   "metadata": {},
   "source": [
    "We see that our variable `x` is a 5 x 1 column vector. This is an important thing to note, since linear algebra cares about the orientation of vectors/matrices. Of course, we can do simple things like add/multiply a scalar. We can also add another vector of the same length, or multiply by another vector or matrix. "
   ]
  },
  {
   "cell_type": "code",
   "execution_count": null,
   "metadata": {},
   "outputs": [],
   "source": [
    "y = [0, 1, 0, 1, 2]\n",
    "print(2x) # multiply each element by 2\n",
    "print(x .* y) # element-wise multiplication"
   ]
  },
  {
   "cell_type": "markdown",
   "metadata": {},
   "source": [
    "### 1.1: Vector and matrix norms <a name=\"norm\"></a>\n",
    "We can make some measurements on vectors and matrices that can come in handy for things such as scaling data (useful/necessary for some matrix factorization and clustering techniques) and analyzing goodness-of-fit for regression problems.\n",
    "\n",
    "The _norm_ of a vector is defined as:\n",
    "$$\\left|\\left|v\\right|\\right|^{p} = \\sum{v_i^p}$$\n",
    "\n",
    "So the _2-norm_ of a vector is the _sum-of-squares_ (because p -> 2). The norm of a matrix is the same thing except that we sum elements over both rows and columns. \n",
    "\n",
    "Norms come in handy for scaling data (divide each vector by its norm), which can improve clustering/dimensionality reduction techniques since all variables (column of a matrix) become similar in magnitude, and thus no single variable dominates the clustering/dimensionality reduction solution. Moreover, the _2-norm_ (also called the _L2 norm_) is used in regression. The term _least squares_ comes directly from trying to minimize the _L2 norm_ of the residuals following a regression fit (i.e. minimize the _sum of squares_ of the errors). "
   ]
  },
  {
   "cell_type": "markdown",
   "metadata": {},
   "source": [
    "### 1.2: The inner product <a name=\"inner\"></a>\n",
    "We can think of the _L2 norm_ as an _inner product_ (or _dot product_) of a vector with itself. An inner product between vectors `x` and `y` is defined as the sum of element-wise products. \n",
    "\n",
    "For instance, given vectors `x` and `y`, the dot product is:\n",
    "```Julia\n",
    "x' * y # x[1]*y[1] + ... + x[5]*y[5]\n",
    "```\n",
    "\n",
    "From above, you can see that I had to transpose the vector `x` first for this to work. I also could have imported the `LinearAlgebra` package and used the function `LinearAlgebra.dot(x, y)`. \n",
    "\n",
    "We can write our own dot-product function to clarify what it is doing:"
   ]
  },
  {
   "cell_type": "code",
   "execution_count": null,
   "metadata": {},
   "outputs": [],
   "source": [
    "dot(x, y) = sum([i*j for i in x, for j in y]) \n",
    "print(x' * y)    # built-in dot product\n",
    "print(dot(x, y)) # homemade dot product"
   ]
  },
  {
   "cell_type": "markdown",
   "metadata": {},
   "source": [
    "So the inner/dot product is nothing more than summing the resulting vector after doing element wise multiplication. If we have a matrix-vector product or matrix-matrix product, we simply repeat the above procedure for each row/column of the matrices involved. \n",
    "\n",
    "Inner products depend on a certain order, so if we have two matrices `A` and `B`, the inner product `A * B` is not the same as `B * A`. The former performs a dot product between each _row of A_ and each _column of B_, while the latter does the opposite. \n",
    "\n",
    "Inner products are at the core of much of linear algebra, and indeed many of the analyses we will cover. It can be interpreted in a variety of ways, some of which are more useful than others depending on the context:\n",
    "\n",
    "1. A similarity score (clustering)\n",
    "2. A projection of one vector/matrix onto another (dim reduction methods, discriminant analysis)\n",
    "3. A weighted mixture (demixture) of factors (observations) (factor analysis, PCA) \n",
    "4. A weighted sum of predictor variables (regression)\n",
    "5. A rotation/scaling of data (variety of signal/image processing methods)\n",
    "6. A filter response (signal processing/convolution)\n",
    "7. A transformation of _inputs_ into _outputs_ (variety of topics/methods, such as neural networks)\n",
    "\n",
    "I usually find the inner product easiest to think of in terms of (1), (3), and/or (4), as these are likely to be encountered in your analysis, but it can be useful to visualize/interpret inner products as transformations of vectors/variables:"
   ]
  },
  {
   "cell_type": "code",
   "execution_count": null,
   "metadata": {},
   "outputs": [],
   "source": [
    "# create a correlated scatter plot\n",
    "x = randn(1000)\n",
    "y = 3x + 0.5*randn(1000) \n",
    "data = [x, y]\n",
    "plot(x, y, seriestype=\"scatter\")\n",
    "\n",
    "# now lets flip over the y-axis using an inner product with a rotation matrix\n",
    "A = [1 0; 0 -1]\n",
    "data_filped = data * A\n",
    "plot!(data_flipped[:,1], data_flipped[:,2], seriestype=\"scatter\") "
   ]
  },
  {
   "cell_type": "markdown",
   "metadata": {},
   "source": [
    "As you can see above, we have used the inner product in a _rotation/transformation_ setting, where we've flipped our data about the y-axis. It is helpful to understand the structure of `A`, and what it is doing to each of our original _dimensions_ (each column of `data`). Our rotation matrix `A` contains the values: \n",
    "```\n",
    "1  0\n",
    "0 -1\n",
    "```\n",
    "Each _row_ of `A` is associated with one dimension/feature/variable of the _input_ data, while each _column_ of `A` is associated with one dimension/feature/variable of the _ouput_ data. Since we have two columns in `data`, and two columns in `A`, we already know that this inner product is NOT going to change the dimensionality of the data. We started with two variables (x, y), and we will be ending with two variables (x_new, y_new). \n",
    "\n",
    "Looking at the _columns_ of A, we see that the first column, `[1, 0]`, will be multiplying the _first_ variable in `data` (x) by the value *1*, and the _second_ variable in `data` (y) by the value *0*, then adding the results together to produce `x_new`. Since we are not combining `x` and `y` together (since y is multiplied by 0), and since we are only multiplying `x` by 1, we know that `x_new = x`. \n",
    "\n",
    "Similarly, the second column of `A`, `[0, -1]`, will be multiplying `x` by *0*, and `y` by *-1*, then summing the results to produce `y_new`. Since the only contribution to `y_new` is the original `y` variable in `data`, and it is only multiplied by *-1*, we know that `y_new = -y`.\n",
    "\n",
    "So in general, each _column_ of `A` specifies how the input variables get weighted before being summed together to produce a new, single, ouput variable. So each column of `A` is performing a _linear combination_ of the input variables. We can also readily appreciate how we can easily shrink or expand the original dimensionality of the data set (by removing or adding columns to `A`, respectively). "
   ]
  },
  {
   "cell_type": "markdown",
   "metadata": {},
   "source": [
    "### 1.3: The outer product <a name=\"outer\"></a>\n",
    "Unlike the inner product, which typically reduces the # of elements (for instance, from two vectors -> scalar), the outer product is an _expansion_ of a dataset. You will likely not use an outer product as often as you will an inner product, but it has important applications, especially relating to dimensionality reduction techniques and data reconstruction. \n",
    "\n",
    "If we have two column vectors `x` and `y`, we perform an outer product as `x * y'`. Note that while we transposed `x` for an inner product, here we have transposed `y`. The result is that we take the vector `x`, and multiply all of its elements by each element in `y`. Basically, we are simply copying the vector `x` many times, and scaling each copy depending on the value of each element in `y`. The result is a matrix that just contains scaled copies of `x`.\n",
    "\n",
    "It is easer to understand this operation with a quick example:"
   ]
  },
  {
   "cell_type": "code",
   "execution_count": null,
   "metadata": {},
   "outputs": [],
   "source": [
    "x = sin.(range(0, stop=10, length=100)) # sine wave 100 pts long\n",
    "w = [1, 2, 0.5, 4, -3] # weights for each \"copy\" of x\n",
    "\n",
    "M = x * w' # now this is of size 100 x 5, since x was 100 x 1 and w' is 1 x 5\n",
    "heatmap(M)"
   ]
  },
  {
   "cell_type": "markdown",
   "metadata": {},
   "source": [
    "As you can see, each column in `M` is simply `x` that has been scaled according to the corresponding element in `w`. Even though we have 5 columns in `M`, really each column can be represented as the originally sine wave with a scaling, so the matrix `M` is actually a simple matrix (with rank = 1 ... more on that below). \n",
    "\n",
    "This application comes up when we use techniques dimensionality reduction techniques like PCA, and wish to get a _reconstruction_ of our original data using some (or all) of the principal components. The idea is that we can decompose our data matrices into a bunch of \"simple\" factors and reconstruct the data by performing outer products using the factors and summing the result."
   ]
  },
  {
   "cell_type": "markdown",
   "metadata": {},
   "source": [
    "### 1.4: Matrix rank <a name=\"rank\"></a>\n",
    "As an explicit example of the above, lets demonstrate how we can build a rather complex looking dataset using just a few simple functions and some outer products. This is a toy example that demonstrates the way one may reconstruct data from principal components etc."
   ]
  },
  {
   "cell_type": "code",
   "execution_count": null,
   "metadata": {},
   "outputs": [],
   "source": [
    "# build our functions\n",
    "f1(x) = sin.(x)\n",
    "f2(x) = cos.(x)\n",
    "f3(x) = -0.5x + x.^0.5\n",
    "\n",
    "# create our \"true\" simple functions. Each one may, for instance, represent a discovered\n",
    "# \"factor\" from a dataset that expalains a good amount of variability in the data (a la PCA)\n",
    "x = range(0, stop=10, length=100)\n",
    "factors = [f1(x), f2(x), f3(x)] # 100 x 3 matrix\n",
    "\n",
    "# create our \"weights\", which determine how we the simple functions\n",
    "# are scaled for each of our \"measurements\" that we made\n",
    "weights = rand(10, 3) # each factor will be scaled randomly 10 times; the 10 here could represent 10 different measurements or cells or something\n",
    "\n",
    "# produce the full, observed dataset by scaling the factors with the weights\n",
    "data = factors * weights'\n",
    "p1 = plot(factors, title=\"true factors\")\n",
    "p2 = heatmap(weights, title=\"weight matrix\")\n",
    "p3 = heatmap(data, title=\"observed data\")\n",
    "plot(p1, p2, p3, layout = @layout [a b; c])"
   ]
  },
  {
   "cell_type": "markdown",
   "metadata": {},
   "source": [
    "What we have done above is taken an _inner product_ of our true factors with a weighting matrix. However, we can break this done as a _sum of outer products_, where each factor gets called randomly using an out product, then the resulting matrices are all summed together:"
   ]
  },
  {
   "cell_type": "code",
   "execution_count": null,
   "metadata": {},
   "outputs": [],
   "source": [
    "data_1 = factors[:,1] * weights[:,1]' # outer product of factor 1 with weights for factor 1\n",
    "data_2 = factors[:,2] * weights[:,2]' # ditto, for factor 2\n",
    "data_3 = factors[:,3] * weights[:,3]' # ditto, for factor 3\n",
    "data_outer = data_1 + data_2 + data_3\n",
    "\n",
    "p1 = heatmap(data_1, title=\"factor 1 matrix\")\n",
    "p2 = heatmap(data_2, title=\"factor 2 matrix\")\n",
    "p3 = heatmap(data_3, title=\"factor 3 matrix\")\n",
    "p4 = heatmap(data_outer, title=\"observed data\")\n",
    "plot(p1, p2, p3, p4, layout = @layout [a b c; d])"
   ]
  },
  {
   "cell_type": "markdown",
   "metadata": {},
   "source": [
    "So as you can see from above, performing an outer product for each factor with its weight vector and summing the result is equivalent to taking a weighted linear combination for each element across the factors. The former is just a longer way of doing the latter. Ultimately, both produce a rather complicated looking matrix, while in reality it is simply composed of three simple functions that have been scaled slightly differently across \"measurements\" and summed together. The benefit of the more explicit outer-product-summation based method is that we can observe what each factor matrix looks like and see that in reality it is just a repeat of a simple function.\n",
    "\n",
    "The three factor matrices above all have a *rank* equal to **1**. The *rank* of a matrix tells us how many _independent columns_ it contains. Independence here means that, if we imagine each column representing some vector pointing in some direction, independent vectors (columns) are those that make up a unique (hyper)plane. So all of our factor matrices above have rank 1 because the columns are all simply scaled versions of one another. So, in vector space, all the vectors (columns) are lying on top of one another (pointing in the same direction).\n",
    "\n",
    "In contrast, our final observed matrix `data` has *rank* equal to **3**, because it is composed of three independent factors. However, if we had instead made one of the factors simply a copy (maybe scaled) of one of the other factors, then we would have reduced the rank of `data` to **2**. The point of many dimensionality reduction techniques is to find a _low-rank_ approximation to a dataset under the assumption that the original data may have high rank due to _noise_.  "
   ]
  },
  {
   "cell_type": "markdown",
   "metadata": {},
   "source": [
    "# Signal Processing <a name=\"sigproc\"></a>"
   ]
  }
 ],
 "metadata": {
  "kernelspec": {
   "display_name": "Julia 1.0.3",
   "language": "julia",
   "name": "julia-1.0"
  },
  "language_info": {
   "file_extension": ".jl",
   "mimetype": "application/julia",
   "name": "julia",
   "version": "1.0.3"
  }
 },
 "nbformat": 4,
 "nbformat_minor": 2
}
